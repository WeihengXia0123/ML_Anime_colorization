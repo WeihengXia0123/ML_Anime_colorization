{
 "cells": [
  {
   "cell_type": "code",
   "execution_count": 21,
   "metadata": {},
   "outputs": [],
   "source": [
    "import torch\n",
    "import torchvision\n",
    "import torchvision.transforms as transforms\n",
    "import os\n",
    "\n",
    "import torchvision as tv\n",
    "import torch.nn as nn\n",
    "import torch.nn.functional as F\n",
    "from torch.autograd import Variable\n",
    "from torchvision.utils import save_image"
   ]
  },
  {
   "cell_type": "markdown",
   "metadata": {},
   "source": [
    "### Import dataset and put into dataloader"
   ]
  },
  {
   "cell_type": "code",
   "execution_count": 22,
   "metadata": {},
   "outputs": [
    {
     "name": "stdout",
     "output_type": "stream",
     "text": [
      "Files already downloaded and verified\n",
      "Files already downloaded and verified\n",
      "cuda:0\n"
     ]
    }
   ],
   "source": [
    "# import CIFAR-10 dataset into trainset, testset\n",
    "# load in to trainloader, testloader\n",
    "\n",
    "# color dataset\n",
    "transform_color = transforms.Compose([\n",
    "        transforms.ToTensor(),\n",
    "         transforms.Normalize((0.5), (0.5))\n",
    "    ])\n",
    "\n",
    "batchSize = 1\n",
    "\n",
    "trainset_color = torchvision.datasets.CIFAR10(root='./data', train=True,\n",
    "                                        download=True, transform=transform_color)\n",
    "trainloader_color = torch.utils.data.DataLoader(trainset_color, batch_size=batchSize,\n",
    "                                          shuffle=True, num_workers=2)\n",
    "\n",
    "testset_color = torchvision.datasets.CIFAR10(root='./data', train=False,\n",
    "                                       download=True, transform=transform_color)\n",
    "testloader_color = torch.utils.data.DataLoader(testset_color, batch_size=batchSize,\n",
    "                                         shuffle=False, num_workers=2)\n",
    "\n",
    "# Number of GPUs available. Use 0 for CPU mode.\n",
    "ngpu = 1\n",
    "# Decide which device we want to run on\n",
    "device = torch.device(\"cuda:0\" if (torch.cuda.is_available() and ngpu > 0) else \"cpu\")\n",
    "print(device)"
   ]
  },
  {
   "cell_type": "markdown",
   "metadata": {},
   "source": [
    "### Pre-processing: Convert all rgb images to gray images"
   ]
  },
  {
   "cell_type": "code",
   "execution_count": 23,
   "metadata": {},
   "outputs": [
    {
     "data": {
      "image/png": "[encoded data removed]",
      "text/plain": [
       "<Figure size 432x288 with 1 Axes>"
      ]
     },
     "metadata": {
      "needs_background": "light"
     },
     "output_type": "display_data"
    },
    {
     "name": "stdout",
     "output_type": "stream",
     "text": [
      "torch.Size([1, 3, 32, 32])\n"
     ]
    }
   ],
   "source": [
    "import matplotlib.pyplot as plt\n",
    "import numpy as np\n",
    "import cv2\n",
    "\n",
    "# functions to show an image\n",
    "def imshow(img):\n",
    "    img = img / 2 + 0.5     # unnormalize\n",
    "    npimg = img.numpy()\n",
    "    plt.imshow(np.transpose(npimg, (1, 2, 0)))\n",
    "    plt.savefig('plot/result_miniBatch_'+str(batchSize)+'.png')\n",
    "    plt.show()\n",
    "\n",
    "# get some random training images\n",
    "dataiter = iter(trainloader_color)\n",
    "images_color, labels = dataiter.next()\n",
    "\n",
    "# show images\n",
    "imshow(torchvision.utils.make_grid(images_color))\n",
    "\n",
    "# show dataiter shape\n",
    "print(images_color.shape)"
   ]
  },
  {
   "cell_type": "code",
   "execution_count": 24,
   "metadata": {},
   "outputs": [
    {
     "data": {
      "image/png": "[encoded data removed]",
      "text/plain": [
       "<Figure size 432x288 with 1 Axes>"
      ]
     },
     "metadata": {
      "needs_background": "light"
     },
     "output_type": "display_data"
    },
    {
     "data": {
      "image/png": "[encoded data removed]",
      "text/plain": [
       "<Figure size 432x288 with 1 Axes>"
      ]
     },
     "metadata": {
      "needs_background": "light"
     },
     "output_type": "display_data"
    },
    {
     "name": "stdout",
     "output_type": "stream",
     "text": [
      "images_gray shape:  torch.Size([1, 1, 32, 32])\n"
     ]
    }
   ],
   "source": [
    "# function to convert a rgb_img to gray_img\n",
    "def rgb2gray(img):\n",
    "    rgb_img = img.transpose(1,2,0)\n",
    "    gray_img = cv2.cvtColor(rgb_img, cv2.COLOR_BGR2GRAY)\n",
    "    return gray_img\n",
    "\n",
    "# function to convert a batch of rgb images to gray images\n",
    "def rgb2gray_batch(images):\n",
    "    rgb_images = np.array(images)    \n",
    "    \n",
    "    gray_images = []\n",
    "    for i in range(rgb_images.shape[0]):\n",
    "        img = rgb_images[i]\n",
    "        gray_img = rgb2gray(img)\n",
    "        gray_images.append(gray_img)\n",
    "    \n",
    "    gray_images = np.array(gray_images)\n",
    "    gray_images = torch.from_numpy(gray_images)\n",
    "    return gray_images\n",
    "        \n",
    "images_gray = rgb2gray_batch(images_color)\n",
    "\n",
    "# show images\n",
    "images_gray = images_gray.reshape(batchSize,1,32,32)\n",
    "\n",
    "imshow(torchvision.utils.make_grid(images_color))\n",
    "imshow(torchvision.utils.make_grid(images_gray))\n",
    "print(\"images_gray shape: \", images_gray.shape)"
   ]
  },
  {
   "cell_type": "markdown",
   "metadata": {},
   "source": [
    "### Define the Auto-Encoder network\n",
    "The shape of a convolutional layer depends on the supplied values of kernel_size, input_shape, padding, and stride. Let's define a few variables:\n",
    "\n",
    "K - the number of filters in the convolutional layer\\\n",
    "F - the height and width of the convolutional filters\\\n",
    "S - the stride of the convolution\\\n",
    "P - the padding\\\n",
    "W_in - the width/height (square) of the previous layer\n",
    "\n",
    "Notice that K = out_channels, F = kernel_size, and S = stride. Likewise, W_in is the first and second value of the input_shape tuple.\n",
    "\n",
    "The depth of the convolutional layer will always equal the number of filters K.\n",
    "\n",
    "The spatial dimensions of a convolutional layer can be calculated as: (W_in−F+2P)/S+1"
   ]
  },
  {
   "cell_type": "code",
   "execution_count": 25,
   "metadata": {},
   "outputs": [],
   "source": [
    "class Autoencoder(nn.Module):\n",
    "    def __init__(self):\n",
    "        super(Autoencoder,self).__init__()\n",
    "        \n",
    "        self.encoder = nn.Sequential(\n",
    "            nn.Conv2d(1,3, kernel_size=3, padding=1),\n",
    "            nn.ReLU(True),\n",
    "            nn.Conv2d(3,6,kernel_size=3),\n",
    "            nn.ReLU(True))\n",
    "        self.decoder = nn.Sequential(             \n",
    "            nn.ConvTranspose2d(6,3,kernel_size=3),\n",
    "            nn.ReLU(True))\n",
    "            \n",
    "    def forward(self,x):\n",
    "        x = self.encoder(x)\n",
    "        x = self.decoder(x)\n",
    "        return x"
   ]
  },
  {
   "cell_type": "markdown",
   "metadata": {},
   "source": [
    "### Define the loss function and optimizer"
   ]
  },
  {
   "cell_type": "code",
   "execution_count": 26,
   "metadata": {},
   "outputs": [
    {
     "name": "stdout",
     "output_type": "stream",
     "text": [
      "is cuda:  True\n"
     ]
    }
   ],
   "source": [
    "# define loss function and optimizer\n",
    "model = Autoencoder().to(device)\n",
    "print(\"is cuda: \", next(model.parameters()).is_cuda)\n",
    "\n",
    "criterion = nn.MSELoss()\n",
    "optimizer = torch.optim.Adam(model.parameters(),weight_decay=1e-5)\n",
    "\n",
    "model_path = \"./saved_model/AutoEncoder_batch_\"+str(batchSize)+ \".pt\"\n",
    "if os.path.exists(model_path):\n",
    "    print(\"Continue training from the saved model\")\n",
    "    model.load_state_dict(torch.load(model_path))"
   ]
  },
  {
   "cell_type": "markdown",
   "metadata": {},
   "source": [
    "### Tensorboard to save all training output logs"
   ]
  },
  {
   "cell_type": "code",
   "execution_count": 27,
   "metadata": {},
   "outputs": [],
   "source": [
    "from torch.utils.tensorboard import SummaryWriter\n",
    "\n",
    "# Writer will output to ./runs/ directory by default\n",
    "writer = SummaryWriter(\"./runs/AutoEncoder_batch_\"+str(batchSize)+\"/\")"
   ]
  },
  {
   "cell_type": "markdown",
   "metadata": {},
   "source": [
    "### Train the network"
   ]
  },
  {
   "cell_type": "code",
   "execution_count": 28,
   "metadata": {},
   "outputs": [
    {
     "data": {
      "image/png": "[encoded data removed]",
      "text/plain": [
       "<Figure size 432x288 with 1 Axes>"
      ]
     },
     "metadata": {
      "needs_background": "light"
     },
     "output_type": "display_data"
    },
    {
     "name": "stdout",
     "output_type": "stream",
     "text": [
      "[200] loss: 0.001\n",
      "[400] loss: 0.001\n",
      "[600] loss: 0.001\n",
      "[800] loss: 0.001\n",
      "[1000] loss: 0.001\n",
      "[1200] loss: 0.001\n",
      "[1400] loss: 0.001\n",
      "[1600] loss: 0.001\n",
      "[1800] loss: 0.001\n",
      "[2000] loss: 0.001\n",
      "[2200] loss: 0.001\n",
      "[2400] loss: 0.001\n",
      "[2600] loss: 0.001\n",
      "[2800] loss: 0.001\n",
      "[3000] loss: 0.001\n",
      "[3200] loss: 0.001\n",
      "[3400] loss: 0.001\n",
      "[3600] loss: 0.001\n",
      "[3800] loss: 0.001\n",
      "[4000] loss: 0.001\n",
      "[4200] loss: 0.001\n",
      "[4400] loss: 0.001\n",
      "[4600] loss: 0.001\n",
      "[4800] loss: 0.001\n",
      "[5000] loss: 0.001\n",
      "[5200] loss: 0.001\n",
      "[5400] loss: 0.001\n",
      "[5600] loss: 0.001\n",
      "[5800] loss: 0.001\n",
      "[6000] loss: 0.001\n",
      "[6200] loss: 0.001\n",
      "[6400] loss: 0.001\n",
      "[6600] loss: 0.001\n",
      "[6800] loss: 0.001\n",
      "[7000] loss: 0.001\n",
      "[7200] loss: 0.001\n",
      "[7400] loss: 0.001\n",
      "[7600] loss: 0.001\n",
      "[7800] loss: 0.001\n",
      "[8000] loss: 0.001\n",
      "[8200] loss: 0.001\n",
      "[8400] loss: 0.001\n",
      "[8600] loss: 0.001\n",
      "[8800] loss: 0.001\n",
      "[9000] loss: 0.001\n",
      "[9200] loss: 0.001\n",
      "[9400] loss: 0.001\n",
      "[9600] loss: 0.001\n",
      "[9800] loss: 0.001\n",
      "[10000] loss: 0.001\n",
      "Finished Training\n"
     ]
    }
   ],
   "source": [
    "dataiter = iter(trainloader_color)\n",
    "image_cpu_color, labels_color = next(dataiter)\n",
    "\n",
    "# show images\n",
    "img = image_cpu_color\n",
    "img = img.reshape(batchSize,3,32,32)\n",
    "imshow(torchvision.utils.make_grid(img.detach()))\n",
    "\n",
    "for epoch in range(10000):  # loop over the dataset multiple times\n",
    "\n",
    "    running_loss = 0.0\n",
    "    num_training = 0\n",
    "    \n",
    "    # get the inputs; data is a list of [inputs, labels]\n",
    "    images_gray = rgb2gray_batch(image_cpu_color)\n",
    "\n",
    "    # put data in gpu/cpu\n",
    "    images_color = image_cpu_color.to(device)\n",
    "    images_gray = images_gray.to(device)\n",
    "\n",
    "    # zero the parameter gradients\n",
    "    optimizer.zero_grad()\n",
    "\n",
    "    # Forward\n",
    "    # Size - images_gray: [batchSize,1,32,32]\n",
    "    images_gray = images_gray.reshape(batchSize,1,32,32)\n",
    "    outputs = model(images_gray)\n",
    "\n",
    "    # Backward\n",
    "    # Size - images_color: [batchSize,3,32,32]\n",
    "    # Size - outputs: [batchSize,3,32,32]\n",
    "#         print(\"images_color: \", images_color.shape)\n",
    "#         print(\"outputs: \", outputs.shape)\n",
    "    loss = criterion(outputs, images_color)\n",
    "    loss.backward()\n",
    "    optimizer.step()\n",
    "\n",
    "    # print output statistics\n",
    "    running_loss += loss.item()\n",
    "\n",
    "    j = 200              # print every 200 epochs\n",
    "    if epoch % j == (j-1):     # print every 200 epochs\n",
    "        print('[%d] loss: %.3f' %\n",
    "              (epoch + 1, running_loss / j))\n",
    "\n",
    "        writer.add_scalar('Loss/train', running_loss/j, epoch)\n",
    "        running_loss = 0.0\n",
    "\n",
    "writer.flush()\n",
    "writer.close()\n",
    "print('Finished Training')"
   ]
  },
  {
   "cell_type": "markdown",
   "metadata": {},
   "source": [
    "### Inference on train dataset"
   ]
  },
  {
   "cell_type": "code",
   "execution_count": 29,
   "metadata": {},
   "outputs": [
    {
     "data": {
      "image/png": "[encoded data removed]",
      "text/plain": [
       "<Figure size 432x288 with 1 Axes>"
      ]
     },
     "metadata": {
      "needs_background": "light"
     },
     "output_type": "display_data"
    },
    {
     "data": {
      "image/png": "[encoded data removed]",
      "text/plain": [
       "<Figure size 432x288 with 1 Axes>"
      ]
     },
     "metadata": {
      "needs_background": "light"
     },
     "output_type": "display_data"
    },
    {
     "name": "stderr",
     "output_type": "stream",
     "text": [
      "Clipping input data to the valid range for imshow with RGB data ([0..1] for floats or [0..255] for integers).\n"
     ]
    },
    {
     "data": {
      "image/png": "[encoded data removed]",
      "text/plain": [
       "<Figure size 432x288 with 1 Axes>"
      ]
     },
     "metadata": {
      "needs_background": "light"
     },
     "output_type": "display_data"
    },
    {
     "name": "stderr",
     "output_type": "stream",
     "text": [
      "Clipping input data to the valid range for imshow with RGB data ([0..1] for floats or [0..255] for integers).\n"
     ]
    },
    {
     "data": {
      "image/png": "[encoded data removed]",
      "text/plain": [
       "<Figure size 432x288 with 1 Axes>"
      ]
     },
     "metadata": {
      "needs_background": "light"
     },
     "output_type": "display_data"
    }
   ],
   "source": [
    "# # get some random training images\n",
    "# dataiter = iter(trainloader_color)\n",
    "# images_color, labels_color = dataiter.next()\n",
    "# print(\"images_color: \", images_color.shape)\n",
    "images_color = image_cpu_color\n",
    "# show images\n",
    "images_color_show = images_color.reshape(batchSize,3,32,32)\n",
    "imshow(torchvision.utils.make_grid(images_color_show.detach()))\n",
    "\n",
    "images_gray = rgb2gray_batch(images_color)\n",
    "# print(\"images_gray: \", images_gray.shape)\n",
    "# show images\n",
    "images_gray = images_gray.reshape(batchSize,1,32,32)\n",
    "imshow(torchvision.utils.make_grid(images_gray.detach()))\n",
    "\n",
    "# run inference on the network\n",
    "# oututs [4,3072]\n",
    "images_gray = images_gray.to(device)\n",
    "outputs = model(images_gray)\n",
    "# print(outputs.shape)\n",
    "\n",
    "outputs_color = outputs.reshape(batchSize,3,32,32)\n",
    "# print(images_color.shape)\n",
    "\n",
    "outputs_color = outputs_color.to(\"cpu\")\n",
    "imshow(torchvision.utils.make_grid(outputs_color.detach()))\n",
    "\n",
    "\n",
    "images_gray = images_gray.to(\"cpu\")\n",
    "images_gray = torch.cat((images_gray, images_gray, images_gray), 1)\n",
    "final_result_display = torch.cat((images_color_show, images_gray, outputs_color), 0)\n",
    "imshow(torchvision.utils.make_grid(final_result_display.detach()))"
   ]
  },
  {
   "cell_type": "markdown",
   "metadata": {},
   "source": [
    "### Save the model"
   ]
  },
  {
   "cell_type": "code",
   "execution_count": 30,
   "metadata": {},
   "outputs": [],
   "source": [
    "if not os.path.exists('./saved_model'):\n",
    "    os.makedirs('./saved_model')\n",
    "\n",
    "    \n",
    "torch.save(model.state_dict(), model_path)"
   ]
  },
  {
   "cell_type": "markdown",
   "metadata": {},
   "source": [
    "### Inference on test dataset"
   ]
  },
  {
   "cell_type": "code",
   "execution_count": 31,
   "metadata": {},
   "outputs": [
    {
     "name": "stdout",
     "output_type": "stream",
     "text": [
      "images_color:  torch.Size([1, 3, 32, 32])\n"
     ]
    },
    {
     "data": {
      "image/png": "[encoded data removed]",
      "text/plain": [
       "<Figure size 432x288 with 1 Axes>"
      ]
     },
     "metadata": {
      "needs_background": "light"
     },
     "output_type": "display_data"
    },
    {
     "name": "stdout",
     "output_type": "stream",
     "text": [
      "images_gray:  torch.Size([1, 32, 32])\n"
     ]
    },
    {
     "data": {
      "image/png": "[encoded data removed]",
      "text/plain": [
       "<Figure size 432x288 with 1 Axes>"
      ]
     },
     "metadata": {
      "needs_background": "light"
     },
     "output_type": "display_data"
    },
    {
     "name": "stderr",
     "output_type": "stream",
     "text": [
      "Clipping input data to the valid range for imshow with RGB data ([0..1] for floats or [0..255] for integers).\n"
     ]
    },
    {
     "name": "stdout",
     "output_type": "stream",
     "text": [
      "torch.Size([1, 3, 32, 32])\n"
     ]
    },
    {
     "data": {
      "image/png": "[encoded data removed]",
      "text/plain": [
       "<Figure size 432x288 with 1 Axes>"
      ]
     },
     "metadata": {
      "needs_background": "light"
     },
     "output_type": "display_data"
    },
    {
     "name": "stderr",
     "output_type": "stream",
     "text": [
      "Clipping input data to the valid range for imshow with RGB data ([0..1] for floats or [0..255] for integers).\n"
     ]
    },
    {
     "data": {
      "image/png": "[encoded data removed]",
      "text/plain": [
       "<Figure size 432x288 with 1 Axes>"
      ]
     },
     "metadata": {
      "needs_background": "light"
     },
     "output_type": "display_data"
    }
   ],
   "source": [
    "# get some random training images\n",
    "dataiter = iter(testloader_color)\n",
    "images_color, labels_color = dataiter.next()\n",
    "print(\"images_color: \", images_color.shape)\n",
    "# show images\n",
    "images_color_show = images_color.reshape(batchSize,3,32,32)\n",
    "imshow(torchvision.utils.make_grid(images_color_show.detach()))\n",
    "\n",
    "images_gray = rgb2gray_batch(images_color)\n",
    "print(\"images_gray: \", images_gray.shape)\n",
    "# show images\n",
    "images_gray = images_gray.reshape(batchSize,1,32,32)\n",
    "imshow(torchvision.utils.make_grid(images_gray.detach()))\n",
    "\n",
    "# run inference on the network\n",
    "images_gray = images_gray.to(device)\n",
    "outputs = model(images_gray)\n",
    "outputs_color = outputs.reshape(batchSize,3,32,32)\n",
    "print(outputs_color.shape)\n",
    "\n",
    "outputs_color = outputs.to(\"cpu\")\n",
    "imshow(torchvision.utils.make_grid(outputs_color.detach()))\n",
    "\n",
    "images_gray = images_gray.to(\"cpu\")\n",
    "images_gray = torch.cat((images_gray, images_gray, images_gray), 1)\n",
    "\n",
    "final_result_display = torch.cat((images_color_show, images_gray, outputs_color), 0)\n",
    "imshow(torchvision.utils.make_grid(final_result_display.detach()))"
   ]
  },
  {
   "cell_type": "code",
   "execution_count": null,
   "metadata": {},
   "outputs": [],
   "source": []
  },
  {
   "cell_type": "code",
   "execution_count": null,
   "metadata": {},
   "outputs": [],
   "source": []
  },
  {
   "cell_type": "code",
   "execution_count": null,
   "metadata": {},
   "outputs": [],
   "source": []
  }
 ],
 "metadata": {
  "kernelspec": {
   "display_name": "Python 3",
   "language": "python",
   "name": "python3"
  },
  "language_info": {
   "codemirror_mode": {
    "name": "ipython",
    "version": 3
   },
   "file_extension": ".py",
   "mimetype": "text/x-python",
   "name": "python",
   "nbconvert_exporter": "python",
   "pygments_lexer": "ipython3",
   "version": "3.8.5"
  }
 },
 "nbformat": 4,
 "nbformat_minor": 4
}
